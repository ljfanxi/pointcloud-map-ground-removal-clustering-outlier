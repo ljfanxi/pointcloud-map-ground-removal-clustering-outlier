{
 "cells": [
  {
   "cell_type": "code",
   "execution_count": 2,
   "id": "5a9c3e03-bb1e-4ae6-9b29-17c844358ee2",
   "metadata": {},
   "outputs": [
    {
     "name": "stdout",
     "output_type": "stream",
     "text": [
      "Jupyter environment detected. Enabling Open3D WebVisualizer.\n",
      "[Open3D INFO] WebRTC GUI backend enabled.\n",
      "[Open3D INFO] WebRTCWindowSystem: HTTP handshake server disabled.\n"
     ]
    }
   ],
   "source": [
    "import open3d as o3d  \n",
    "import numpy as np  \n",
    "import laspy\n",
    "import matplotlib.pyplot as plt\n",
    "from mpl_toolkits.mplot3d import Axes3D\n",
    "from scipy.spatial import cKDTree\n",
    "from sklearn import linear_model\n",
    "from sklearn.cluster import KMeans"
   ]
  },
  {
   "cell_type": "code",
   "execution_count": 3,
   "id": "a5cb2e48-c1ac-4b7f-a39b-708a1916b87f",
   "metadata": {},
   "outputs": [
    {
     "name": "stdout",
     "output_type": "stream",
     "text": [
      "Points from data: 3814230\n",
      "No.of classification [1 2]\n",
      "[[ 57173998 887874563      3697]\n",
      " [ 57173984 887874550      3725]\n",
      " [ 57173870 887874608      3835]\n",
      " ...\n",
      " [ 57159475 887864292      4163]\n",
      " [ 57159690 887864035      4189]\n",
      " [ 57159803 887864297      4205]]\n"
     ]
    }
   ],
   "source": [
    "las = laspy.read('media/KU_003.las')\n",
    "list(las.point_format.dimension_names)\n",
    "set(list(las.classification))\n",
    "\n",
    "print('Points from data:', len(las.points))\n",
    "print(\"No.of classification\", np.unique(las.classification))\n",
    "\n",
    "\n",
    "# To create 3D point cloud data, we can stack together with the X, Y, and Z dimensions, using Numpy like this.\n",
    "point_data = np.stack([las.X, las.Y, las.Z], axis=0).transpose()\n",
    "print(point_data)\n",
    "\n",
    "\n",
    "# OPen3D Point Cloud Visualization Colored\n",
    "geom = o3d.geometry.PointCloud()\n",
    "geom.points = o3d.utility.Vector3dVector(point_data)\n",
    "o3d.visualization.draw_geometries([geom])\n",
    "\n",
    "\n",
    "# Create Open3D point cloud Binary\n",
    "point_cloud = o3d.geometry.PointCloud()\n",
    "point_cloud.points = o3d.utility.Vector3dVector(np.vstack((las.x, las.y, las.z)).transpose())\n",
    "point_cloud.colors = o3d.utility.Vector3dVector(np.vstack((las.intensity, las.intensity, las.intensity)).transpose() / np.max(las.intensity))\n",
    "#o3d.visualization.draw_geometries([point_cloud])\n",
    "\n",
    "# # Set point size to make points smaller\n",
    "# point_size = 0.03  # Adjust this value to make points smaller or larger\n",
    "\n",
    "# # Create Open3D visualizer\n",
    "# vis = o3d.visualization.Visualizer()\n",
    "# vis.create_window()\n",
    "\n",
    "# # Add point cloud to the visualizer\n",
    "# vis.add_geometry(point_cloud)\n",
    "\n",
    "# # Set point size in the render options\n",
    "# render_opt = vis.get_render_option()\n",
    "# render_opt.point_size = point_size\n",
    "\n",
    "# # Render and display the point cloud\n",
    "# vis.run()\n",
    "# vis.destroy_window()"
   ]
  },
  {
   "cell_type": "code",
   "execution_count": 21,
   "id": "4e5af49e-f70d-456e-8440-9bdc7ff41a22",
   "metadata": {},
   "outputs": [
    {
     "name": "stdout",
     "output_type": "stream",
     "text": [
      "Fitted plane equation: Z = 0.001462977698064171 * X + -0.009544437737279364 * Y + 83943.62366060691\n",
      "Number of ground points: 3498011\n",
      "Number of outliers: 316219\n",
      "Total number of points in LAS file: 3814230\n"
     ]
    }
   ],
   "source": [
    "xyz = np.stack((las.x, las.y, las.z), axis=-1)  # Formatting of numpy array\n",
    "\n",
    "if xyz.size > 10:\n",
    "    XY = xyz[:, :2]  # In 3 range column array extracted 2 columns\n",
    "    Z = xyz[:, 2]  # All but only index[2] extracted\n",
    "\n",
    "    # Use RANSAC to fit a plane to the point cloud\n",
    "    ransac = linear_model.RANSACRegressor(residual_threshold=6)\n",
    "    ransac.fit(XY, Z)\n",
    "\n",
    "    # Identify inliers (ground points) and outliers\n",
    "    inlier_mask = ransac.inlier_mask_ #identify inliers\n",
    "    ground_points = xyz[inlier_mask] #---------------inliers ground truth\n",
    "    outlier_mask = np.logical_not(inlier_mask) #in logical not inliers are all outliers.\n",
    "    outliers = xyz[outlier_mask] #--------------outliers container  \n",
    "\n",
    "    # Extract plane parameters\n",
    "    plane_coefficients = ransac.estimator_.coef_ #coefficient\n",
    "    plane_intercept = ransac.estimator_.intercept_ #value of d\n",
    "    \n",
    "    # Create a plane model filled with zeros not the same from original cloud data point but the same shape with \n",
    "    #lidar pointcloud\n",
    "    fitted_plane = np.zeros_like(xyz)\n",
    "    fitted_plane[:, :2] = XY\n",
    "    fitted_plane[:, 2] = ransac.predict(XY)\n",
    "\n",
    "    # Visualize ground points and fitted plane using Open3D\n",
    "    if len(fitted_plane) > 0:\n",
    "        fitted_plane_pc = o3d.geometry.PointCloud()\n",
    "        fitted_plane_pc.points = o3d.utility.Vector3dVector(fitted_plane)\n",
    "    \n",
    "        # Ensure that the indices are integers (or boolean) for proper indexing\n",
    "        intensity_indices = np.asarray(inlier_mask).nonzero()[0]\n",
    "\n",
    "        # Use intensity_indices for indexing las.intensity\n",
    "        fitted_plane_pc.colors = o3d.utility.Vector3dVector(np.vstack((las.intensity[intensity_indices], las.intensity[intensity_indices], las.intensity[intensity_indices])).transpose() / np.max(las.intensity))\n",
    "        o3d.visualization.draw_geometries([fitted_plane_pc])\n",
    "\n",
    "    # Print the plane equation\n",
    "    print(f\"Fitted plane equation: Z = {plane_coefficients[0]} * X + {plane_coefficients[1]} * Y + {plane_intercept}\")\n",
    "\n",
    "        \n",
    "    # Visualize ground points and outliers using Open3D with intensity-based colors\n",
    "    if len(ground_points) > 0 and len(outliers) > 0:\n",
    "        ground_pc = o3d.geometry.PointCloud()\n",
    "        ground_pc.points = o3d.utility.Vector3dVector(ground_points)\n",
    "        #ground_pc.colors = o3d.utility.Vector3dVector(np.vstack((las.intensity[inlier_mask], las.intensity[inlier_mask], las.intensity[inlier_mask])).transpose() / np.max(las.intensity))\n",
    "        o3d.visualization.draw_geometries([ground_pc])\n",
    "        \n",
    "        outliers_pc = o3d.geometry.PointCloud()\n",
    "        outliers_pc.points = o3d.utility.Vector3dVector(outliers)\n",
    "        outliers_pc.colors = o3d.utility.Vector3dVector(np.vstack((las.intensity[outlier_mask], las.intensity[outlier_mask], las.intensity[outlier_mask])).transpose() / np.max(las.intensity))\n",
    "        o3d.visualization.draw_geometries([outliers_pc])\n",
    "\n",
    "        # Print the number of ground points, outliers, and total points\n",
    "        num_ground_points = len(ground_points)\n",
    "        num_outliers = len(outliers)\n",
    "        total_points = len(xyz)\n",
    "        print(f\"Number of ground points: {num_ground_points}\")\n",
    "        print(f\"Number of outliers: {num_outliers}\")\n",
    "        print(f\"Total number of points in LAS file: {total_points}\")\n",
    "else:\n",
    "    print(\"Insufficient points for processing.\")\n"
   ]
  },
  {
   "cell_type": "code",
   "execution_count": 6,
   "id": "7b5455c1-d3aa-4b79-86ff-42ab0cadfd43",
   "metadata": {},
   "outputs": [
    {
     "name": "stderr",
     "output_type": "stream",
     "text": [
      "/home/x/.local/lib/python3.10/site-packages/sklearn/cluster/_kmeans.py:1416: FutureWarning: The default value of `n_init` will change from 10 to 'auto' in 1.4. Set the value of `n_init` explicitly to suppress the warning\n",
      "  super()._check_params_vs_input(X, default_n_init=10)\n"
     ]
    }
   ],
   "source": [
    "# Load outlier coordinates from the CSV file\n",
    "outliers_csv_path = 'outliers.csv'\n",
    "outliers = np.loadtxt(outliers_csv_path, delimiter=',')\n",
    "\n",
    "# Perform k-means clustering\n",
    "kmeans = KMeans(n_clusters=150)  # You can adjust the number of clusters (n_clusters) as needed\n",
    "kmeans.fit(outliers)\n",
    "labels = kmeans.labels_\n",
    "\n",
    "# Add cluster labels to the outliers array\n",
    "outliers_with_labels = np.column_stack((outliers, labels))\n",
    "\n",
    "# Filter out outliers (points not assigned to any cluster)\n",
    "clustered_points = outliers_with_labels[outliers_with_labels[:, 3] != -1, :3]\n",
    "\n",
    "# Create an Open3D point cloud from the clustered points with cluster labels\n",
    "clustered_pc = o3d.geometry.PointCloud()\n",
    "clustered_pc.points = o3d.utility.Vector3dVector(clustered_points)\n",
    "\n",
    "# Assign unique colors to each cluster\n",
    "unique_colors = np.random.rand(kmeans.n_clusters, 3)\n",
    "cluster_colors = unique_colors[labels[labels != -1]]\n",
    "\n",
    "clustered_pc.colors = o3d.utility.Vector3dVector(cluster_colors)\n",
    "\n",
    "# Visualize the clustered points with cluster-specific colors using Open3D\n",
    "o3d.visualization.draw_geometries([clustered_pc])\n",
    "\n",
    "# Create bounding boxes for each cluster\n",
    "bounding_boxes = []\n",
    "for cluster_label in range(kmeans.n_clusters):\n",
    "    cluster_points = clustered_points[labels[labels != -1] == cluster_label]\n",
    "    \n",
    "    # Calculate bounding box parameters\n",
    "    min_bound = np.min(cluster_points, axis=0)\n",
    "    max_bound = np.max(cluster_points, axis=0)\n",
    "    \n",
    "    # Create bounding box\n",
    "    bounding_box = o3d.geometry.OrientedBoundingBox.create_from_points(o3d.utility.Vector3dVector(cluster_points))\n",
    "    bounding_box.color = unique_colors[cluster_label].tolist()  # Set color to the cluster color\n",
    "    \n",
    "    bounding_boxes.append(bounding_box)\n",
    "\n",
    "# Visualize all bounding boxes together\n",
    "o3d.visualization.draw_geometries([clustered_pc] + bounding_boxes)\n",
    "#it is useful for drone autonomous navigation"
   ]
  }
 ],
 "metadata": {
  "kernelspec": {
   "display_name": "Python 3 (ipykernel)",
   "language": "python",
   "name": "python3"
  },
  "language_info": {
   "codemirror_mode": {
    "name": "ipython",
    "version": 3
   },
   "file_extension": ".py",
   "mimetype": "text/x-python",
   "name": "python",
   "nbconvert_exporter": "python",
   "pygments_lexer": "ipython3",
   "version": "3.10.12"
  }
 },
 "nbformat": 4,
 "nbformat_minor": 5
}
